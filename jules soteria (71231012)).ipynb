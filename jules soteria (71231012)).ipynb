{
 "cells": [
  {
   "cell_type": "code",
   "execution_count": 7,
   "id": "0bb5717a",
   "metadata": {},
   "outputs": [
    {
     "name": "stdout",
     "output_type": "stream",
     "text": [
      "Masukan Berat Badan : 60\n",
      "Masukan tinggi Badan : 175\n",
      "BMI Anda adalah  20\n"
     ]
    }
   ],
   "source": [
    "\n",
    "bb = float(input(\"Masukan Berat Badan : \"))\n",
    "tinggi = float(input(\"Masukan tinggi Badan : \"))\n",
    "ht = tinggi/100\n",
    "bmi = round(bb/ht**2)\n",
    "\n",
    "print (\"BMI Anda adalah \", bmi)\n",
    "\n",
    "\n",
    "\n"
   ]
  },
  {
   "cell_type": "code",
   "execution_count": 9,
   "id": "a0ac9372",
   "metadata": {},
   "outputs": [
    {
     "name": "stdout",
     "output_type": "stream",
     "text": [
      "Masukan nilai X : 4\n",
      "Nilai dari f(x) adalah :  139.75\n"
     ]
    }
   ],
   "source": [
    "x = int(input(\"Masukan nilai X : \"))\n",
    "f = 2*x**3 + 2*x + (15/x)\n",
    "print (\"Nilai dari f(x) adalah : \", f)"
   ]
  },
  {
   "cell_type": "code",
   "execution_count": null,
   "id": "3bd60303",
   "metadata": {},
   "outputs": [],
   "source": []
  },
  {
   "cell_type": "code",
   "execution_count": null,
   "id": "3bfc9776",
   "metadata": {},
   "outputs": [],
   "source": [
    "liburan_semester = 5 #minggu\n",
    "gaji_perjam = float(input(\"masukkan gaji perjam: \"))\n",
    "jam_kerja_perhari = float(input(\"masukan jam kerja perhari: \")) \n",
    "hari_masuk_seminggu = float(input(\"masukan berapa hari kerja dalam seminggu: \")) \n",
    "gaji_perhari = jam_kerja_perhari*gaji_perjam\n",
    "gaji_perminggu = hari_masuk_seminggu*gaji_perhari\n",
    "\n",
    "pajak = 14/100\n",
    "gaji_kotor = liburan_semester*gaji_perminggu\n",
    "gaji_bersihnya= gaji_kotor-(gaji_kotor*pajak)\n",
    "\n",
    "baju_aksesoris = (10/100)*gaji_bersihnya\n",
    "sisa = gaji_bersihnya - baju_aksesoris\n",
    "\n",
    "alat_tulis = (1/100)*gaji_bersihnya\n",
    "total_pengeluaran = gaji_bersihnya- (baju_aksesoris + alat_tulis)\n",
    "\n",
    "sedekah = (25/100)*total_pengeluaran\n",
    "total_pengeluaran_baru =  gaji_bersihnya - (baju_aksesoris + alat_tulis + sedekah) \n",
    "\n",
    "sedekah_yatim = round(((30/100)*(total_pengeluaran_baru/1000))*1000)\n",
    "total_sedekah_yatim = total_pengeluaran_baru - sedekah_yatim\n",
    "\n",
    "dhaufa = round(sedekah-sedekah_yatim)\n",
    "\n",
    "\n",
    "print(\"Pendapatan Budi selama libur musim panas sebelum melakukan pembayaran pajak\", gaji_kotor)\n",
    "print(\"Pendapatan Budi selama libur musim panas setelah melakukan pembayaran pajak\", gaji_bersihnya)\n",
    "print(\"Jumlah uang yang akan Budi habiskan untuk membeli pakaian dan aksesoris\",baju_aksesoris)\n",
    "print(\"Jumlah uang yang akan Budi habiskan untuk membeli alat tulis\",alat_tulis)\n",
    "print(\"Jumlah uang yang akan Budi sedekahkan\", sedekah)\n",
    "print(\"Jumlah uang yang akan diterima anak yatim\", sedekah_yatim)\n",
    "print(\"Jumlah uang yang akan diterima kaum dhuafa\", dhaufa)"
   ]
  }
 ],
 "metadata": {
  "kernelspec": {
   "display_name": "Python 3 (ipykernel)",
   "language": "python",
   "name": "python3"
  },
  "language_info": {
   "codemirror_mode": {
    "name": "ipython",
    "version": 3
   },
   "file_extension": ".py",
   "mimetype": "text/x-python",
   "name": "python",
   "nbconvert_exporter": "python",
   "pygments_lexer": "ipython3",
   "version": "3.11.5"
  }
 },
 "nbformat": 4,
 "nbformat_minor": 5
}
